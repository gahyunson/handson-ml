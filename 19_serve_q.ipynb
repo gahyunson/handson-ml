{
 "cells": [
  {
   "attachments": {},
   "cell_type": "markdown",
   "metadata": {},
   "source": [
    "1. SavedModel 에 포함된 것은 무엇인가요? 이 내용을 어떻게 조사할 수 있나요?"
   ]
  },
  {
   "attachments": {},
   "cell_type": "markdown",
   "metadata": {},
   "source": [
    "2. TF 서빙을 언제 사용해야 하고 주기능은 무엇인가요? 배포를 위해 쓸 수 있는 도구는 무엇인가요?"
   ]
  },
  {
   "attachments": {},
   "cell_type": "markdown",
   "metadata": {},
   "source": [
    "3. 여러 TF 서빙 인스턴스로 모델을 어떻게 배포하나요?"
   ]
  },
  {
   "attachments": {},
   "cell_type": "markdown",
   "metadata": {},
   "source": [
    "4. TF 서빙으로 서비스되는 모델에 쿼리하기 위해 REST API 대신 gRPC API를 사용해야 할 때는 언제인가요?"
   ]
  },
  {
   "attachments": {},
   "cell_type": "markdown",
   "metadata": {},
   "source": [
    "5. TFLite가 모바일이나 임베디드 장치에서 실행되도록 모델 크기를 줄이기 위한 방법은 무엇인가요?"
   ]
  },
  {
   "attachments": {},
   "cell_type": "markdown",
   "metadata": {},
   "source": [
    "6. 양자화를 고려한 훈련은 무엇인가요? 왜 필요한가요?"
   ]
  },
  {
   "attachments": {},
   "cell_type": "markdown",
   "metadata": {},
   "source": [
    "7. 모델 병렬화와 데이터 병렬화는 무엇인가요? 왜 일반적으로 후자를 권장하나요?"
   ]
  },
  {
   "attachments": {},
   "cell_type": "markdown",
   "metadata": {},
   "source": [
    "8. 모델 병렬화와 데이터 병렬화는 무엇인가요? 왜 일반적으로 후자를 권장하나요?"
   ]
  },
  {
   "attachments": {},
   "cell_type": "markdown",
   "metadata": {},
   "source": [
    "8. 서버 여러 대에서 모델을 훈련할 때 어떤 분산 전략을 쓸 수 있나요? 선택 기준은 무엇인가요?"
   ]
  },
  {
   "attachments": {},
   "cell_type": "markdown",
   "metadata": {},
   "source": [
    "9. 모델을 훈련하고 TF 서빙 or 구글 클라우드 AI 플랫폼에 배포해보세요. REST API나 gRPC API 를 사용해 쿼리하는 클라이언트 코드를 작성해보세요. 모델을 업데이트하고 새로운 버전을 배포해보세요. 클라이언트 코드가 새로운 버전으로 쿼리할 것입니다. 첫 번째 버전으로 롤백해보세요."
   ]
  },
  {
   "attachments": {},
   "cell_type": "markdown",
   "metadata": {},
   "source": [
    "10. 하나의 머신에 여러 개의 GPU에서 MirroredStrategy 전략으로 모델을 훈련해보세요(코랩 GPU 런타임으로 가상 GPU 두 개를 만들 수도 있습니다). CentralStorageStrategy 전략으로 모델을 재훈련하고 훈련 시간을 비교해보세요."
   ]
  },
  {
   "attachments": {},
   "cell_type": "markdown",
   "metadata": {},
   "source": [
    "11. 구글 클라우드 AI 플랫폼에서 블랙 박스 하이퍼파라미터 튜닝으로 작은 모델을 훈련해보세요."
   ]
  }
 ],
 "metadata": {
  "language_info": {
   "name": "python"
  },
  "orig_nbformat": 4
 },
 "nbformat": 4,
 "nbformat_minor": 2
}
