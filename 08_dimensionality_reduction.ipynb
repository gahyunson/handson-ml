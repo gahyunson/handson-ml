{
 "cells": [
  {
   "attachments": {},
   "cell_type": "markdown",
   "metadata": {},
   "source": [
    "훈련 샘플에 수백만개의 특성이 담겨져 있다면?\n",
    "1. 수백만 차원이 된다\n",
    "2. 훈련을 느리게 한다\n",
    "3. 좋은 솔루션을 찾기 어렵게 만든다\n",
    "\n",
    "이를 **차원의 저주**라고 한다.\n",
    "\n",
    "해결책은? \\\n",
    " -> 특성 수를 줄인다\n",
    "\n",
    "But, \n",
    "차원 축소 -> 일부 정보 유실\n",
    "훈련 속도 증가 , 시스템 성능 저하 가능 \n",
    "그래서 무조건 차원 축소하는 것보다 원본 데이터로도 훈련해봐야 한다.\n",
    "\n",
    "차원을 축소하면? \\\n",
    "고차원의 훈련 세트를 저차원으로 시각화하여 요점만 표현할 수 있다\n",
    "\n",
    "# 1. 차원의 저주\n",
    "예) 2차원에서 임의의 두 점의 거리가 약 0.52일 때, 1,000,000차원에서 두 거리는 408.25가 된다, \\\n",
    "대부분의 훈련 데이터가 서로 멀리 떨어진다. 그러면 새로운 샘플이 추가되어도 모두 멀리떨어져 있을 확률이 크다. \\\n",
    "이는 다양한 변수를 모두 고려해야하므로 차원이 커지면 과대적합의 위험이 커진다는 뜻이다.\n",
    "\n",
    "해결책: train dataset 밀도가 충분히 높아질 때까지 train dataset 크기를 키운다. 하지만 이 또한 우주에 있는 원자 수 모두를 합친 것보다 더 많은 data를 모아야 한다.\n",
    "\n",
    "# 2. 차원 축소 방법\n",
    "## 2-1. 투영 projection\n",
    "대부분 train dataset이 고차원 전체에 고루 분포되어있진 않다. 보통 고차원 속 일부인 저차원에 분포되어있다. \\\n",
    "특정 평면공간 2D 인 저차원에 데이터셋을 수직으로 투영하면 우리는 차원을 축소한 2D dataset을 얻게된다.\n",
    "\n",
    "스위스 롤 데이터셋의 경우 투영방법을 사용하면 데이터가 뒤틀려서 나오게 됩니다. 이런 경우 매니폴드 학습 방법을 이용합니다.\n",
    "## 2-2. 매니폴드 학습\n",
    "2D 매니폴드란 고차원에서 뒤틀린 2D 모양이다. \\\n",
    "d차원 매니폴드 : d차원 초평면으로 보일 수 있는 (차원축소할 수 있는) n차원 공간의 일부 \n",
    "\n",
    "매니폴드 학습 : 차원 축소 알고리즘이 훈련 샘플이 놓여있는 매니폴드를 모델링한다 \\\n",
    "매니폴드 가정/가설 : 고차원 데이터셋이 더 낮은 저차원 매니폴드에 가깝게 구조되어있다  \\\n",
    "\n",
    "# 3. PCA\n",
    "주성분 분석 PCA (Pricipal component analysis) \\\n",
    "    데이터에 가장 가까운 초평면 정의 -> 데이터를 평면에 투영\n",
    "\n",
    "# 3-1. 분산 보존\n",
    "초평면 정의하기 \\\n",
    "분산을 최대한 보전하는 초평면을 골라야한다. 정보가 가장 적게 손실되므로. \n",
    "이는 원본 데이터셋과 투영된 데이터셋 사이 평균 제곱 거리 값이 최소인 축이다.\n",
    "\n",
    "# 3-2. 주성분\n",
    "1. 분산이 최대인 축 - 실선\n",
    "2. 첫번째 축에 직교하는 , 남은 분산을 최대한 보전하는 축 - 점선\n",
    "3. 첫 번째와 두 번째의 직교가 되는 선 \n",
    "4. 데이터셋의 차원의 수만큼 축을 찾는다\n",
    "i번째 축을 i번째 주성분PC라고 부른다.\n",
    "\n",
    "주성분 찾기 : 특잇값 분해 SVD \\\n",
    "표준 행렬 분해 기술 SVD를 이용하여 trainset matrix X를 *세 개 행렬*의 행렬 곱셈으로 분해할 수 있다. \\\n",
    "주성분의 단위 벡터는 V에 담긴다.\n",
    "\n",
    "Python - Numpy - svd() 함수로 모든 주성분을 구한 뒤 두 개의 PC 단위 벡터를 리턴해준다."
   ]
  },
  {
   "cell_type": "code",
   "execution_count": 1,
   "metadata": {},
   "outputs": [],
   "source": [
    "# Python ≥3.5 is required\n",
    "import sys\n",
    "assert sys.version_info >= (3, 5)\n",
    "\n",
    "# Scikit-Learn ≥0.20 is required\n",
    "import sklearn\n",
    "assert sklearn.__version__ >= \"0.20\"\n",
    "\n",
    "# Common imports\n",
    "import numpy as np\n",
    "import os\n",
    "\n",
    "# to make this notebook's output stable across runs\n",
    "np.random.seed(42)\n",
    "\n",
    "# To plot pretty figures\n",
    "%matplotlib inline\n",
    "import matplotlib as mpl\n",
    "import matplotlib.pyplot as plt\n",
    "mpl.rc('axes', labelsize=14)\n",
    "mpl.rc('xtick', labelsize=12)\n",
    "mpl.rc('ytick', labelsize=12)\n",
    "\n",
    "# Where to save the figures\n",
    "PROJECT_ROOT_DIR = \".\"\n",
    "CHAPTER_ID = \"dim_reduction\"\n",
    "IMAGES_PATH = os.path.join(PROJECT_ROOT_DIR, \"images\", CHAPTER_ID)\n",
    "os.makedirs(IMAGES_PATH, exist_ok=True)\n",
    "\n",
    "def save_fig(fig_id, tight_layout=True, fig_extension=\"png\", resolution=300):\n",
    "    path = os.path.join(IMAGES_PATH, fig_id + \".\" + fig_extension)\n",
    "    print(\"Saving figure\", fig_id)\n",
    "    if tight_layout:\n",
    "        plt.tight_layout()\n",
    "    plt.savefig(path, format=fig_extension, dpi=resolution)\n",
    "    \n",
    "np.random.seed(4)\n",
    "m = 60\n",
    "w1, w2 = 0.1, 0.3\n",
    "noise = 0.1\n",
    "\n",
    "angles = np.random.rand(m) * 3 * np.pi / 2 - 0.5\n",
    "X = np.empty((m, 3))\n",
    "X[:, 0] = np.cos(angles) + np.sin(angles)/2 + noise * np.random.randn(m) / 2\n",
    "X[:, 1] = np.sin(angles) * 0.7 + noise * np.random.randn(m) / 2\n",
    "X[:, 2] = X[:, 0] * w1 + X[:, 1] * w2 + noise * np.random.randn(m)\n",
    "\n",
    "X_centered = X - X.mean(axis=0)\n",
    "U, s, Vt = np.linalg.svd(X_centered)\n",
    "c1 = Vt.T[:, 0]\n",
    "c2 = Vt.T[:, 1]"
   ]
  },
  {
   "attachments": {},
   "cell_type": "markdown",
   "metadata": {},
   "source": [
    "PCA의 데이터셋 평균=0 \\\n",
    "    코드로 구현시 데이터 평균을 0으로 만들어야한다. \\\n",
    "scikit-learn 에서는 평균을 0으로 처리해준다. \n"
   ]
  },
  {
   "cell_type": "code",
   "execution_count": 2,
   "metadata": {},
   "outputs": [
    {
     "name": "stdout",
     "output_type": "stream",
     "text": [
      "[0.93636116 0.29854881 0.18465208] [-0.34027485  0.90119108  0.2684542 ]\n"
     ]
    }
   ],
   "source": [
    "print(c1,c2)"
   ]
  },
  {
   "attachments": {},
   "cell_type": "markdown",
   "metadata": {},
   "source": [
    "## 3-3. d차원으로 투영하기 projection\n",
    "\n",
    "주성분 추출 완료시 d개 주성분으로 정의한 초평면에 투영하여 데이터셋 차원 축소 가능\n",
    "\n",
    "train dataset을 d차원으로 투영하기 = 행렬X * V의 첫d열로 구성된 행렬"
   ]
  },
  {
   "cell_type": "code",
   "execution_count": 3,
   "metadata": {},
   "outputs": [],
   "source": [
    "W2 = Vt.T[:, :2]\n",
    "X2D = X_centered.dot(W2)"
   ]
  },
  {
   "cell_type": "code",
   "execution_count": 8,
   "metadata": {},
   "outputs": [
    {
     "name": "stdout",
     "output_type": "stream",
     "text": [
      "(60, 3) (60, 2)\n"
     ]
    }
   ],
   "source": [
    "print(X_centered.shape,X2D.shape)"
   ]
  },
  {
   "attachments": {},
   "cell_type": "markdown",
   "metadata": {},
   "source": [
    "## 3-4. Scikit-learn 이용한 SVD 분해\n",
    "데이터셋을 2차원으로 줄여보자"
   ]
  },
  {
   "cell_type": "code",
   "execution_count": 9,
   "metadata": {},
   "outputs": [],
   "source": [
    "from sklearn.decomposition import PCA\n",
    "\n",
    "pca = PCA(n_components=2)\n",
    "X2D = pca.fit_transform(X)"
   ]
  },
  {
   "cell_type": "code",
   "execution_count": 10,
   "metadata": {},
   "outputs": [
    {
     "name": "stdout",
     "output_type": "stream",
     "text": [
      "(60, 3) (60, 2)\n"
     ]
    }
   ],
   "source": [
    "print(X.shape, X2D.shape)"
   ]
  },
  {
   "attachments": {},
   "cell_type": "markdown",
   "metadata": {},
   "source": [
    "아래는 V의 첫 d열로만 구성된 행렬이다. \\\n",
    "첫 번째 주성분을 정의하는 단위 벡터이다."
   ]
  },
  {
   "cell_type": "code",
   "execution_count": 12,
   "metadata": {},
   "outputs": [
    {
     "data": {
      "text/plain": [
       "array([-0.93636116, -0.29854881, -0.18465208])"
      ]
     },
     "execution_count": 12,
     "metadata": {},
     "output_type": "execute_result"
    }
   ],
   "source": [
    "pca.components_.T[:,0] "
   ]
  },
  {
   "attachments": {},
   "cell_type": "markdown",
   "metadata": {},
   "source": [
    "## 3-5. 설명된 분산의 비율\n",
    "pca.explained_variance_ratio_ 를 통해 각 주성분의 분산 비율을 알 수 있다.\n",
    "분산이 가장 큰 순서대로 찾는다."
   ]
  },
  {
   "cell_type": "code",
   "execution_count": 13,
   "metadata": {},
   "outputs": [
    {
     "data": {
      "text/plain": [
       "array([0.84248607, 0.14631839])"
      ]
     },
     "execution_count": 13,
     "metadata": {},
     "output_type": "execute_result"
    }
   ],
   "source": [
    "pca.explained_variance_ratio_"
   ]
  },
  {
   "attachments": {},
   "cell_type": "markdown",
   "metadata": {},
   "source": [
    "## 3-6. 적절한 차원 수 선택하기?\n",
    "고차원을 임의의 저차원으로 축소하는 것보다 가장 데이터셋을 잘 표현할 수 있고 다루기 좋은 차원으로 줄이는 것이 좋다. \\\n",
    "조건으로 충분한 분산 95%가 될 때까지 축을 구하는게 간단하다. "
   ]
  },
  {
   "cell_type": "code",
   "execution_count": 14,
   "metadata": {},
   "outputs": [],
   "source": [
    "from sklearn.datasets import fetch_openml\n",
    "\n",
    "mnist = fetch_openml('mnist_784', version=1, as_frame=False)\n",
    "mnist.target = mnist.target.astype(np.uint8)\n",
    "from sklearn.model_selection import train_test_split\n",
    "\n",
    "X = mnist[\"data\"]\n",
    "y = mnist[\"target\"]\n",
    "\n",
    "X_train, X_test, y_train, y_test = train_test_split(X, y)\n",
    "pca = PCA()\n",
    "pca.fit(X_train)\n",
    "cumsum = np.cumsum(pca.explained_variance_ratio_)\n",
    "d = np.argmax(cumsum >= 0.95) + 1"
   ]
  },
  {
   "cell_type": "code",
   "execution_count": 20,
   "metadata": {},
   "outputs": [
    {
     "data": {
      "text/plain": [
       "154"
      ]
     },
     "execution_count": 20,
     "metadata": {},
     "output_type": "execute_result"
    }
   ],
   "source": [
    "d"
   ]
  },
  {
   "attachments": {},
   "cell_type": "markdown",
   "metadata": {},
   "source": [
    "상단에서 d를 구하긴했지만, n_components 값으로는 보존하려는 분산 비율을 0 ~ 1 사이 값으로 넣어주는게 좋다."
   ]
  },
  {
   "cell_type": "code",
   "execution_count": 17,
   "metadata": {},
   "outputs": [],
   "source": [
    "pca = PCA(n_components=0.95)\n",
    "X_reduced = pca.fit_transform(X_train)"
   ]
  },
  {
   "attachments": {},
   "cell_type": "markdown",
   "metadata": {},
   "source": [
    "혹은 그림을 그려서 볼 수도 있다. cumsum 그래프를 그린다. \n",
    "일명 elbow graph"
   ]
  },
  {
   "cell_type": "code",
   "execution_count": 16,
   "metadata": {},
   "outputs": [
    {
     "name": "stdout",
     "output_type": "stream",
     "text": [
      "Saving figure explained_variance_plot\n"
     ]
    },
    {
     "data": {
      "image/png": "[encoded data removed]",
      "text/plain": [
       "<Figure size 432x288 with 1 Axes>"
      ]
     },
     "metadata": {
      "needs_background": "light"
     },
     "output_type": "display_data"
    }
   ],
   "source": [
    "plt.figure(figsize=(6,4))\n",
    "plt.plot(cumsum, linewidth=3)\n",
    "plt.axis([0, 400, 0, 1])\n",
    "plt.xlabel(\"Dimensions\")\n",
    "plt.ylabel(\"Explained Variance\")\n",
    "plt.plot([d, d], [0, 0.95], \"k:\")\n",
    "plt.plot([0, d], [0.95, 0.95], \"k:\")\n",
    "plt.plot(d, 0.95, \"ko\")\n",
    "plt.annotate(\"Elbow\", xy=(65, 0.85), xytext=(70, 0.7),\n",
    "             arrowprops=dict(arrowstyle=\"->\"), fontsize=16)\n",
    "plt.grid(True)\n",
    "save_fig(\"explained_variance_plot\")\n",
    "plt.show()"
   ]
  },
  {
   "attachments": {},
   "cell_type": "markdown",
   "metadata": {},
   "source": [
    "## 3-7. 압축을 위한 PCA\n",
    "차원 축소 진행 -> 훈련 세트 크기 감소 -> (SVM...) 분류 알고리즘 사용시 속도 향상\n",
    "\n",
    "압축된 데이터셋 원래 고차원으로 되돌리기\n",
    "- PCA 투영의 변환을 반대로 적용한다\n",
    "\n",
    "But, \n",
    "- 투영작업시 일정량 정보를 잃어버려서 완전한 원본 데이터셋으로 되돌리긴 힘들다\n",
    "- 재구성 오차(원본 데이터와 복구 데이터셋 사이의 평균 제곱 거리)로 확인 가능하다\n",
    "\n",
    "- pca.inverse_transform을 이용한 복원 예시"
   ]
  },
  {
   "cell_type": "code",
   "execution_count": 21,
   "metadata": {},
   "outputs": [],
   "source": [
    "pca = PCA(n_components=154)\n",
    "X_reduced = pca.fit_transform(X_train)\n",
    "X_recovered = pca.inverse_transform(X_reduced)"
   ]
  },
  {
   "cell_type": "code",
   "execution_count": 22,
   "metadata": {},
   "outputs": [
    {
     "name": "stdout",
     "output_type": "stream",
     "text": [
      "(52500, 154) (52500, 784)\n"
     ]
    }
   ],
   "source": [
    "print(X_reduced.shape, X_recovered.shape)"
   ]
  },
  {
   "attachments": {},
   "cell_type": "markdown",
   "metadata": {},
   "source": [
    "## 3-8. 랜덤 PCA\n",
    "- scikit-learn의 랜덤 PCA\n",
    "- svd_solver=\"randomized\"\n",
    "- 확률적 알고리즘을 활용한 주성분 근사값 찾기\n",
    "- 계산 복잡도 O(mxd^2)+O(d^3)\n",
    "\n",
    "- svd_solver=\"auto\"\n",
    "- m | n > 500 , d < m | n * 80% 이면 자동으로 랜덤 PCA 알고리즘을 사용하고 그 외에는 SVD 방식을 사용한다.\n",
    "\n",
    "SVD 방식 계산 복잡도 : O(mxn^2) + O(n^3)\n",
    "\n",
    "- svd_solver=\"full\"\n",
    "- SVD 방식으로 고정"
   ]
  },
  {
   "cell_type": "code",
   "execution_count": 23,
   "metadata": {},
   "outputs": [],
   "source": [
    "rnd_pca = PCA(n_components=154, svd_solver=\"randomized\", random_state=42)\n",
    "X_reduced = rnd_pca.fit_transform(X_train)"
   ]
  },
  {
   "attachments": {},
   "cell_type": "markdown",
   "metadata": {},
   "source": [
    "## 3-9. 점진적 PCA\n",
    "- PCA : 전체 훈련 셋을 SVD 알고리즘으로 실행한다.\n",
    "- 점진적 PCA :\n",
    "    1. 훈련 세트를 미니배치로 나눈다\n",
    "    2. IPCA 알고리즘에 한 번에 하나씩 주입한다\\\n",
    "훈련 셋이 클 때 유용하다. 온라인으로 PCA 적용이 가능하다.\n",
    "아래는 점진적 PCA 코드 예시이다."
   ]
  },
  {
   "cell_type": "code",
   "execution_count": 24,
   "metadata": {},
   "outputs": [
    {
     "name": "stdout",
     "output_type": "stream",
     "text": [
      "...................................................................................................."
     ]
    }
   ],
   "source": [
    "from sklearn.decomposition import IncrementalPCA\n",
    "\n",
    "n_batches = 100\n",
    "inc_pca = IncrementalPCA(n_components=154)\n",
    "for X_batch in np.array_split(X_train, n_batches):\n",
    "    print(\".\", end=\"\") # not shown in the book\n",
    "    inc_pca.partial_fit(X_batch)\n",
    "\n",
    "X_reduced = inc_pca.transform(X_train)"
   ]
  },
  {
   "cell_type": "code",
   "execution_count": 25,
   "metadata": {},
   "outputs": [
    {
     "data": {
      "text/plain": [
       "array([[-2.67584817e-13,  2.44948967e-12,  1.21049831e-12, ...,\n",
       "         0.00000000e+00,  0.00000000e+00,  0.00000000e+00],\n",
       "       [ 6.97046026e-13,  7.69245050e-13,  3.99475595e-12, ...,\n",
       "         0.00000000e+00,  0.00000000e+00,  0.00000000e+00],\n",
       "       [ 8.58926907e-14, -1.26431543e-12,  5.52785605e-12, ...,\n",
       "         0.00000000e+00,  0.00000000e+00,  0.00000000e+00],\n",
       "       ...,\n",
       "       [-9.98210387e-13,  1.10417326e-12, -2.91387948e-12, ...,\n",
       "         0.00000000e+00,  0.00000000e+00,  0.00000000e+00],\n",
       "       [ 3.66896066e-13,  1.40453059e-12, -1.15320965e-12, ...,\n",
       "         0.00000000e+00,  0.00000000e+00,  0.00000000e+00],\n",
       "       [ 7.35182329e-13, -1.99010328e-12,  1.96735919e-12, ...,\n",
       "         0.00000000e+00,  0.00000000e+00,  0.00000000e+00]])"
      ]
     },
     "execution_count": 25,
     "metadata": {},
     "output_type": "execute_result"
    }
   ],
   "source": [
    "X_recovered_inc_pca = inc_pca.inverse_transform(X_reduced)\n",
    "X_recovered_inc_pca"
   ]
  },
  {
   "attachments": {},
   "cell_type": "markdown",
   "metadata": {},
   "source": [
    "혹은 IncrementalPCA 에서는 특정 순간에 배열의 일부만 사용하는 특성을 이용하여, \\\n",
    "memap 클래스를 이용해 매우 큰 배열을 메모리에 들어 있는 것처럼 다룬다. "
   ]
  },
  {
   "cell_type": "code",
   "execution_count": 26,
   "metadata": {},
   "outputs": [
    {
     "data": {
      "text/html": [
       "<style>#sk-container-id-1 {color: black;background-color: white;}#sk-container-id-1 pre{padding: 0;}#sk-container-id-1 div.sk-toggleable {background-color: white;}#sk-container-id-1 label.sk-toggleable__label {cursor: pointer;display: block;width: 100%;margin-bottom: 0;padding: 0.3em;box-sizing: border-box;text-align: center;}#sk-container-id-1 label.sk-toggleable__label-arrow:before {content: \"▸\";float: left;margin-right: 0.25em;color: #696969;}#sk-container-id-1 label.sk-toggleable__label-arrow:hover:before {color: black;}#sk-container-id-1 div.sk-estimator:hover label.sk-toggleable__label-arrow:before {color: black;}#sk-container-id-1 div.sk-toggleable__content {max-height: 0;max-width: 0;overflow: hidden;text-align: left;background-color: #f0f8ff;}#sk-container-id-1 div.sk-toggleable__content pre {margin: 0.2em;color: black;border-radius: 0.25em;background-color: #f0f8ff;}#sk-container-id-1 input.sk-toggleable__control:checked~div.sk-toggleable__content {max-height: 200px;max-width: 100%;overflow: auto;}#sk-container-id-1 input.sk-toggleable__control:checked~label.sk-toggleable__label-arrow:before {content: \"▾\";}#sk-container-id-1 div.sk-estimator input.sk-toggleable__control:checked~label.sk-toggleable__label {background-color: #d4ebff;}#sk-container-id-1 div.sk-label input.sk-toggleable__control:checked~label.sk-toggleable__label {background-color: #d4ebff;}#sk-container-id-1 input.sk-hidden--visually {border: 0;clip: rect(1px 1px 1px 1px);clip: rect(1px, 1px, 1px, 1px);height: 1px;margin: -1px;overflow: hidden;padding: 0;position: absolute;width: 1px;}#sk-container-id-1 div.sk-estimator {font-family: monospace;background-color: #f0f8ff;border: 1px dotted black;border-radius: 0.25em;box-sizing: border-box;margin-bottom: 0.5em;}#sk-container-id-1 div.sk-estimator:hover {background-color: #d4ebff;}#sk-container-id-1 div.sk-parallel-item::after {content: \"\";width: 100%;border-bottom: 1px solid gray;flex-grow: 1;}#sk-container-id-1 div.sk-label:hover label.sk-toggleable__label {background-color: #d4ebff;}#sk-container-id-1 div.sk-serial::before {content: \"\";position: absolute;border-left: 1px solid gray;box-sizing: border-box;top: 0;bottom: 0;left: 50%;z-index: 0;}#sk-container-id-1 div.sk-serial {display: flex;flex-direction: column;align-items: center;background-color: white;padding-right: 0.2em;padding-left: 0.2em;position: relative;}#sk-container-id-1 div.sk-item {position: relative;z-index: 1;}#sk-container-id-1 div.sk-parallel {display: flex;align-items: stretch;justify-content: center;background-color: white;position: relative;}#sk-container-id-1 div.sk-item::before, #sk-container-id-1 div.sk-parallel-item::before {content: \"\";position: absolute;border-left: 1px solid gray;box-sizing: border-box;top: 0;bottom: 0;left: 50%;z-index: -1;}#sk-container-id-1 div.sk-parallel-item {display: flex;flex-direction: column;z-index: 1;position: relative;background-color: white;}#sk-container-id-1 div.sk-parallel-item:first-child::after {align-self: flex-end;width: 50%;}#sk-container-id-1 div.sk-parallel-item:last-child::after {align-self: flex-start;width: 50%;}#sk-container-id-1 div.sk-parallel-item:only-child::after {width: 0;}#sk-container-id-1 div.sk-dashed-wrapped {border: 1px dashed gray;margin: 0 0.4em 0.5em 0.4em;box-sizing: border-box;padding-bottom: 0.4em;background-color: white;}#sk-container-id-1 div.sk-label label {font-family: monospace;font-weight: bold;display: inline-block;line-height: 1.2em;}#sk-container-id-1 div.sk-label-container {text-align: center;}#sk-container-id-1 div.sk-container {/* jupyter's `normalize.less` sets `[hidden] { display: none; }` but bootstrap.min.css set `[hidden] { display: none !important; }` so we also need the `!important` here to be able to override the default hidden behavior on the sphinx rendered scikit-learn.org. See: https://github.com/scikit-learn/scikit-learn/issues/21755 */display: inline-block !important;position: relative;}#sk-container-id-1 div.sk-text-repr-fallback {display: none;}</style><div id=\"sk-container-id-1\" class=\"sk-top-container\"><div class=\"sk-text-repr-fallback\"><pre>IncrementalPCA(batch_size=525, n_components=154)</pre><b>In a Jupyter environment, please rerun this cell to show the HTML representation or trust the notebook. <br />On GitHub, the HTML representation is unable to render, please try loading this page with nbviewer.org.</b></div><div class=\"sk-container\" hidden><div class=\"sk-item\"><div class=\"sk-estimator sk-toggleable\"><input class=\"sk-toggleable__control sk-hidden--visually\" id=\"sk-estimator-id-1\" type=\"checkbox\" checked><label for=\"sk-estimator-id-1\" class=\"sk-toggleable__label sk-toggleable__label-arrow\">IncrementalPCA</label><div class=\"sk-toggleable__content\"><pre>IncrementalPCA(batch_size=525, n_components=154)</pre></div></div></div></div></div>"
      ],
      "text/plain": [
       "IncrementalPCA(batch_size=525, n_components=154)"
      ]
     },
     "execution_count": 26,
     "metadata": {},
     "output_type": "execute_result"
    }
   ],
   "source": [
    "filename = \"my_mnist.data\"\n",
    "m, n = X_train.shape\n",
    "\n",
    "X_mm = np.memmap(filename, dtype='float32', mode='write', shape=(m, n))\n",
    "X_mm[:] = X_train\n",
    "\n",
    "del X_mm\n",
    "\n",
    "X_mm = np.memmap(filename, dtype=\"float32\", mode=\"readonly\", shape=(m, n))\n",
    "\n",
    "batch_size = m // n_batches\n",
    "inc_pca = IncrementalPCA(n_components=154, batch_size=batch_size)\n",
    "inc_pca.fit(X_mm)"
   ]
  },
  {
   "attachments": {},
   "cell_type": "markdown",
   "metadata": {},
   "source": [
    "# 4. 커널 PCA\n",
    "복잡한 비선형 투형 수행하는 방법.\\\n",
    "투영 후 샘플의 군집 유지 혹은 꼬인 매니폴드에 가까운 데이터셋을 펼칠 때 유용하다.\n",
    "\n",
    "아래는 kPCA 적용코드이다.\n"
   ]
  },
  {
   "cell_type": "code",
   "execution_count": 27,
   "metadata": {},
   "outputs": [
    {
     "ename": "NameError",
     "evalue": "name 'make_swiss_roll' is not defined",
     "output_type": "error",
     "traceback": [
      "\u001b[0;31m---------------------------------------------------------------------------\u001b[0m",
      "\u001b[0;31mNameError\u001b[0m                                 Traceback (most recent call last)",
      "\u001b[1;32m/Users/gahyunson/Work/Handson_ml/08_dimensionality_reduction.ipynb 셀 33\u001b[0m in \u001b[0;36m<cell line: 1>\u001b[0;34m()\u001b[0m\n\u001b[0;32m----> <a href='vscode-notebook-cell:/Users/gahyunson/Work/Handson_ml/08_dimensionality_reduction.ipynb#X44sZmlsZQ%3D%3D?line=0'>1</a>\u001b[0m X, t \u001b[39m=\u001b[39m make_swiss_roll(n_samples\u001b[39m=\u001b[39m\u001b[39m1000\u001b[39m, noise\u001b[39m=\u001b[39m\u001b[39m0.2\u001b[39m, random_state\u001b[39m=\u001b[39m\u001b[39m42\u001b[39m)\n\u001b[1;32m      <a href='vscode-notebook-cell:/Users/gahyunson/Work/Handson_ml/08_dimensionality_reduction.ipynb#X44sZmlsZQ%3D%3D?line=2'>3</a>\u001b[0m \u001b[39mfrom\u001b[39;00m \u001b[39msklearn\u001b[39;00m\u001b[39m.\u001b[39;00m\u001b[39mdecomposition\u001b[39;00m \u001b[39mimport\u001b[39;00m KernelPCA\n\u001b[1;32m      <a href='vscode-notebook-cell:/Users/gahyunson/Work/Handson_ml/08_dimensionality_reduction.ipynb#X44sZmlsZQ%3D%3D?line=4'>5</a>\u001b[0m rbf_pca \u001b[39m=\u001b[39m KernelPCA(n_components \u001b[39m=\u001b[39m \u001b[39m2\u001b[39m, kernel\u001b[39m=\u001b[39m\u001b[39m\"\u001b[39m\u001b[39mrbf\u001b[39m\u001b[39m\"\u001b[39m, gamma\u001b[39m=\u001b[39m\u001b[39m0.04\u001b[39m)\n",
      "\u001b[0;31mNameError\u001b[0m: name 'make_swiss_roll' is not defined"
     ]
    }
   ],
   "source": [
    "\n",
    "X, t = make_swiss_roll(n_samples=1000, noise=0.2, random_state=42)\n",
    "\n",
    "from sklearn.decomposition import KernelPCA\n",
    "\n",
    "rbf_pca = KernelPCA(n_components = 2, kernel=\"rbf\", gamma=0.04)\n",
    "X_reduced = rbf_pca.fit_transform(X)"
   ]
  },
  {
   "attachments": {},
   "cell_type": "markdown",
   "metadata": {},
   "source": [
    "## 4-1. 커널 선택과 하이퍼파라미터 튜닝\n",
    "kPCA란\n",
    "- 비지도 학습\n",
    "- 명확한 성능 측정 기준이 없다\n",
    "- 전처리 단계로 차원축소로 진행 -> 그리드 탐색을 이용하여 성능이 좋은 커널, 하이퍼파라미터 값 탐색 가능\n",
    "\n",
    "선형 PCA를 역전시키면 \n",
    "- 선형 PCA를 역전 - 데이터 포인트가 원본 공간이 아닌 특성 공간에 놓임 - 재구성된 포인트 계산 불가 - 재구성에 따른 실제 에러 계산 불가 \n",
    "- 재구성된 포인트에 가깝게 매핑된 원본 공간 포인트 찾기 가능 = 재구성 원상\n",
    "- 원본 샘플과 재구성 원상의 제곱 거리를 측정 가능 - 이를 최소화하는 커널과 하이퍼파라미터값 선택 가능\n",
    "\n",
    "재구성 방법\n",
    "- 투영된 샘플:train dataset , 원본 샘플:target y로 설정한 지도학습-회귀모델 훈련하는 방법이 있다"
   ]
  },
  {
   "cell_type": "code",
   "execution_count": 28,
   "metadata": {},
   "outputs": [
    {
     "ename": "NameError",
     "evalue": "name 'KernelPCA' is not defined",
     "output_type": "error",
     "traceback": [
      "\u001b[0;31m---------------------------------------------------------------------------\u001b[0m",
      "\u001b[0;31mNameError\u001b[0m                                 Traceback (most recent call last)",
      "\u001b[1;32m/Users/gahyunson/Work/Handson_ml/08_dimensionality_reduction.ipynb 셀 35\u001b[0m in \u001b[0;36m<cell line: 1>\u001b[0;34m()\u001b[0m\n\u001b[0;32m----> <a href='vscode-notebook-cell:/Users/gahyunson/Work/Handson_ml/08_dimensionality_reduction.ipynb#X52sZmlsZQ%3D%3D?line=0'>1</a>\u001b[0m rbf_pca \u001b[39m=\u001b[39m KernelPCA(n_components \u001b[39m=\u001b[39m \u001b[39m2\u001b[39m, kernel\u001b[39m=\u001b[39m\u001b[39m\"\u001b[39m\u001b[39mrbf\u001b[39m\u001b[39m\"\u001b[39m, gamma\u001b[39m=\u001b[39m\u001b[39m0.0433\u001b[39m,\n\u001b[1;32m      <a href='vscode-notebook-cell:/Users/gahyunson/Work/Handson_ml/08_dimensionality_reduction.ipynb#X52sZmlsZQ%3D%3D?line=1'>2</a>\u001b[0m                     fit_inverse_transform\u001b[39m=\u001b[39m\u001b[39mTrue\u001b[39;00m)\n\u001b[1;32m      <a href='vscode-notebook-cell:/Users/gahyunson/Work/Handson_ml/08_dimensionality_reduction.ipynb#X52sZmlsZQ%3D%3D?line=2'>3</a>\u001b[0m X_reduced \u001b[39m=\u001b[39m rbf_pca\u001b[39m.\u001b[39mfit_transform(X)\n\u001b[1;32m      <a href='vscode-notebook-cell:/Users/gahyunson/Work/Handson_ml/08_dimensionality_reduction.ipynb#X52sZmlsZQ%3D%3D?line=3'>4</a>\u001b[0m X_preimage \u001b[39m=\u001b[39m rbf_pca\u001b[39m.\u001b[39minverse_transform(X_reduced)\n",
      "\u001b[0;31mNameError\u001b[0m: name 'KernelPCA' is not defined"
     ]
    }
   ],
   "source": [
    "rbf_pca = KernelPCA(n_components = 2, kernel=\"rbf\", gamma=0.0433,\n",
    "                    fit_inverse_transform=True)\n",
    "X_reduced = rbf_pca.fit_transform(X)\n",
    "X_preimage = rbf_pca.inverse_transform(X_reduced)\n",
    "\n",
    "from sklearn.metrics import mean_squared_error\n",
    "\n",
    "mean_squared_error(X, X_preimage)"
   ]
  },
  {
   "attachments": {},
   "cell_type": "markdown",
   "metadata": {},
   "source": [
    "# 5. LLE\n",
    "\n",
    "지역 선형 임베딩 \n",
    "- 비선형 차원 축소\n",
    "- 투영에 의존하지 않는 매니폴드 학습\n",
    "\n",
    "방법\n",
    "1. 각 훈련 샘플이 가장 가까운 이웃에 얼마나 선형적으로 연관되어 있는가 측정\n",
    "2. 국부적인 관계가 가장 잘 보존되는 훈련 세트의 저차원 표현을 찾는다\n",
    "\n"
   ]
  },
  {
   "attachments": {},
   "cell_type": "markdown",
   "metadata": {},
   "source": [
    "# 6. 다른 차원 축소 기법\n",
    "\n",
    "**랜덤 투영**\n",
    "\n",
    "**다차원 스케일링**\n",
    "\n",
    "**Isomap**\n",
    "\n",
    "**t-SNE**\n",
    "\n",
    "**선형 판별 분석**"
   ]
  },
  {
   "cell_type": "code",
   "execution_count": null,
   "metadata": {},
   "outputs": [],
   "source": []
  }
 ],
 "metadata": {
  "kernelspec": {
   "display_name": "Python 3",
   "language": "python",
   "name": "python3"
  },
  "language_info": {
   "codemirror_mode": {
    "name": "ipython",
    "version": 3
   },
   "file_extension": ".py",
   "mimetype": "text/x-python",
   "name": "python",
   "nbconvert_exporter": "python",
   "pygments_lexer": "ipython3",
   "version": "3.10.6"
  },
  "orig_nbformat": 4,
  "vscode": {
   "interpreter": {
    "hash": "aee8b7b246df8f9039afb4144a1f6fd8d2ca17a180786b69acc140d282b71a49"
   }
  }
 },
 "nbformat": 4,
 "nbformat_minor": 2
}
