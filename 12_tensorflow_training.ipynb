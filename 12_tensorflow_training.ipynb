{
 "cells": [
  {
   "attachments": {},
   "cell_type": "markdown",
   "metadata": {},
   "source": [
    "# 1. 텐서플로\n",
    "\n",
    "- 강력한 수치 계산용 라이브러리\n",
    "- 구글 브레인 팀에서 개발\n",
    "- 구글 클라우드 스피치, 구글 포토, 구글 검색 대규모 서비스에 사용됨\n",
    "- 2015년 11월 오픈 소스 공개\n",
    "- GPU 지원\n",
    "- 분산 컴퓨팅 지원\n",
    "- Just-In-Time 컴파일러 포함 - 소도를 높이고 메모리 사용량을 즐이기 위해 계산을 최적화함\n",
    "- 다른 환경에서 훈련과 실행이 가능하다\n",
    "- 자동 미분 기능과 고성능 옵티마이저 RMSProp, Nadam 제공\n",
    "- TensorFlow.js 자바스크립트 구현 있음, 브라우저에서 직접 모델 실행 가능한 것\n",
    "\n",
    "저수준 텐서플로 연산 \n",
    "- C++ 코드로 구현\n",
    "- 여러 구현(kernel)이 존재 \n",
    "- kernel은 CPU, GPU, TPU 같은 특정 장치에 맞춰 만들어짐\n",
    "\n",
    "[TensorFlow GitHub](https://github.com/jtoy/awesome-tensorflow) 에서 많은 신경망 구조 다운로드 가능\n",
    "\n",
    "TFX : TensorFlow 제품화를 위한 라이브러리 모음\n",
    "\n",
    "[TensorFlow 버그 알리기, 새로운 기능 요청하기](https://github.com/tensorflow/tensorflow)    \n",
    "[TensorFlow 커뮤니티](https://homl.info/41)\n",
    "\n",
    "# 2. Using the TensorFlow LIKE NUMPY\n",
    "\n",
    "##### tensor\n",
    "- 한 연산에서 다른 연산으로 ... ~ tensorflow\n",
    "- numpy - ndarray와 매우 비슷함\n",
    "- 다차원 배열, 스칼라 값 가능    \n",
    "텐서 생성과 조작\n",
    "\n",
    "## 2.1 텐서와 연산\n",
    "tf.constant()\n",
    "\n",
    "1. 행렬"
   ]
  },
  {
   "cell_type": "code",
   "execution_count": 2,
   "metadata": {},
   "outputs": [
    {
     "name": "stderr",
     "output_type": "stream",
     "text": [
      "2023-03-09 20:51:44.572241: I tensorflow/core/platform/cpu_feature_guard.cc:193] This TensorFlow binary is optimized with oneAPI Deep Neural Network Library (oneDNN) to use the following CPU instructions in performance-critical operations:  AVX2 FMA\n",
      "To enable them in other operations, rebuild TensorFlow with the appropriate compiler flags.\n",
      "2023-03-09 20:52:39.707103: I tensorflow/core/platform/cpu_feature_guard.cc:193] This TensorFlow binary is optimized with oneAPI Deep Neural Network Library (oneDNN) to use the following CPU instructions in performance-critical operations:  AVX2 FMA\n",
      "To enable them in other operations, rebuild TensorFlow with the appropriate compiler flags.\n"
     ]
    },
    {
     "data": {
      "text/plain": [
       "<tf.Tensor: shape=(2, 3), dtype=float32, numpy=\n",
       "array([[1., 2., 3.],\n",
       "       [4., 5., 6.]], dtype=float32)>"
      ]
     },
     "execution_count": 2,
     "metadata": {},
     "output_type": "execute_result"
    }
   ],
   "source": [
    "import tensorflow as tf\n",
    "\n",
    "tf.constant([[1., 2., 3.], [4., 5., 6.]]) # matrix"
   ]
  },
  {
   "attachments": {},
   "cell_type": "markdown",
   "metadata": {},
   "source": [
    "2. 스칼라"
   ]
  },
  {
   "cell_type": "code",
   "execution_count": 3,
   "metadata": {},
   "outputs": [
    {
     "data": {
      "text/plain": [
       "<tf.Tensor: shape=(), dtype=int32, numpy=42>"
      ]
     },
     "execution_count": 3,
     "metadata": {},
     "output_type": "execute_result"
    }
   ],
   "source": [
    "tf.constant(42) # scalar"
   ]
  },
  {
   "attachments": {},
   "cell_type": "markdown",
   "metadata": {},
   "source": [
    "3. 크기와 데이터 타입"
   ]
  },
  {
   "cell_type": "code",
   "execution_count": 4,
   "metadata": {},
   "outputs": [
    {
     "data": {
      "text/plain": [
       "(<tf.Tensor: shape=(2, 3), dtype=float32, numpy=\n",
       " array([[1., 2., 3.],\n",
       "        [4., 5., 6.]], dtype=float32)>,\n",
       " TensorShape([2, 3]),\n",
       " tf.float32)"
      ]
     },
     "execution_count": 4,
     "metadata": {},
     "output_type": "execute_result"
    }
   ],
   "source": [
    "t = tf.constant([[1., 2., 3.], [4., 5., 6.]])\n",
    "t, t.shape, t.dtype"
   ]
  },
  {
   "attachments": {},
   "cell_type": "markdown",
   "metadata": {},
   "source": [
    "## 2.5 데이터 구조\n",
    "- 희소 텐서\n",
    "- 텐서 배열 : 텐서의 리스트. 리스트에 포함된 모든 텐서 크기와 데이터 타입은 동일해야함\n",
    "- 래그드 텐서 : 리스트의 리스트. 리스트의 길이는 다를 수 있음. tf.ragged package\n",
    "- 문자열 텐서 : tf.string . 바이트 문자열을 나타냄(유니코드 아님!) 자동으로 UTF-8로 인코딩\n",
    "- 집합 : 텐서 혹은 희소텐서로 표현. tf.sets package\n",
    "- 큐 : tf.queue \n",
    "\n",
    "타입 변환 : tf.cast()\n",
    "\n",
    "```python\n",
    "tf.cast(t2, tf.float32)\n",
    "```\n",
    "\n",
    "## 2.4 변수\n",
    "텐서의 내용은 수정 불가 = 역전파시 신경망의 가중치를 변경할 수 없음\n",
    "-> tf.Variable 사용"
   ]
  },
  {
   "cell_type": "code",
   "execution_count": 5,
   "metadata": {},
   "outputs": [
    {
     "data": {
      "text/plain": [
       "<tf.Variable 'Variable:0' shape=(2, 3) dtype=float32, numpy=\n",
       "array([[1., 2., 3.],\n",
       "       [4., 5., 6.]], dtype=float32)>"
      ]
     },
     "execution_count": 5,
     "metadata": {},
     "output_type": "execute_result"
    }
   ],
   "source": [
    "v = tf.Variable([[1., 2., 3.], [4., 5., 6.]])\n",
    "v"
   ]
  },
  {
   "attachments": {},
   "cell_type": "markdown",
   "metadata": {},
   "source": [
    "- tf.Variable은 tf.Tensor와 비슷하게 작동함\n",
    "- assign() 이나 scatter_update(), scatter_nd_update() 로 개별 원소를 수정 가능"
   ]
  },
  {
   "cell_type": "code",
   "execution_count": 6,
   "metadata": {},
   "outputs": [
    {
     "name": "stdout",
     "output_type": "stream",
     "text": [
      "<tf.Variable 'Variable:0' shape=(2, 3) dtype=float32, numpy=\n",
      "array([[ 2.,  4.,  6.],\n",
      "       [ 8., 10., 12.]], dtype=float32)>\n",
      "<tf.Variable 'Variable:0' shape=(2, 3) dtype=float32, numpy=\n",
      "array([[100.,   4.,   6.],\n",
      "       [  8.,  10., 200.]], dtype=float32)>\n",
      "<tf.Variable 'Variable:0' shape=(2, 3) dtype=float32, numpy=\n",
      "array([[4., 5., 6.],\n",
      "       [1., 2., 3.]], dtype=float32)>\n"
     ]
    }
   ],
   "source": [
    "v.assign(2 * v)\n",
    "print(v)\n",
    "\n",
    "v.scatter_nd_update(indices=[[0, 0], [1, 2]],\n",
    "                    updates=[100., 200.])\n",
    "print(v)\n",
    "\n",
    "sparse_delta = tf.IndexedSlices(values=[[1., 2., 3.], [4., 5., 6.]],\n",
    "                                indices=[1, 0])\n",
    "v.scatter_update(sparse_delta)\n",
    "print(v)"
   ]
  },
  {
   "attachments": {},
   "cell_type": "markdown",
   "metadata": {},
   "source": [
    "## 2.2 Tensor and Numpy\n",
    "\n",
    "넘파이 배열에 텐서플로 연산 가능    \n",
    "텐서에 넘파이 연산 가능\n",
    "\n",
    "## 2.3 타입 변환\n"
   ]
  },
  {
   "cell_type": "code",
   "execution_count": null,
   "metadata": {},
   "outputs": [],
   "source": []
  }
 ],
 "metadata": {
  "kernelspec": {
   "display_name": "Python 3",
   "language": "python",
   "name": "python3"
  },
  "language_info": {
   "codemirror_mode": {
    "name": "ipython",
    "version": 3
   },
   "file_extension": ".py",
   "mimetype": "text/x-python",
   "name": "python",
   "nbconvert_exporter": "python",
   "pygments_lexer": "ipython3",
   "version": "3.10.6"
  },
  "orig_nbformat": 4
 },
 "nbformat": 4,
 "nbformat_minor": 2
}
